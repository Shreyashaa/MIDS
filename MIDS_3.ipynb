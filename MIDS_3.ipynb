{
  "nbformat": 4,
  "nbformat_minor": 0,
  "metadata": {
    "colab": {
      "provenance": []
    },
    "kernelspec": {
      "name": "python3",
      "display_name": "Python 3"
    },
    "language_info": {
      "name": "python"
    }
  },
  "cells": [
    {
      "cell_type": "markdown",
      "source": [
        "NUMBER OF RINGS PREDICATION USING CLASSIFICATION"
      ],
      "metadata": {
        "id": "S9ZZcYlylgC3"
      }
    },
    {
      "cell_type": "code",
      "execution_count": null,
      "metadata": {
        "id": "78MLuUIi7BNn"
      },
      "outputs": [],
      "source": [
        "import pandas as pd\n",
        "from sklearn.model_selection import train_test_split\n",
        "from sklearn.neighbors import KNeighborsClassifier\n",
        "from sklearn.metrics import accuracy_score \n",
        "import numpy as np\n",
        "from sklearn.linear_model import LinearRegression\n",
        "from sklearn.metrics import mean_squared_error"
      ]
    },
    {
      "cell_type": "code",
      "source": [
        "df = pd.read_csv(\"http://archive.ics.uci.edu/ml/machine-learning-databases/abalone/abalone.data\", header=None)\n",
        "df.columns = [\"sex\", \"length\", \"diameter\", \"height\", \"whole_weight\", \"shucked_weight\", \"viscera_weight\", \"shell_weight\", \"rings\"]                                                                           "
      ],
      "metadata": {
        "id": "xjeB7c7R_IkI"
      },
      "execution_count": null,
      "outputs": []
    },
    {
      "cell_type": "code",
      "source": [
        "df.head()"
      ],
      "metadata": {
        "colab": {
          "base_uri": "https://localhost:8080/",
          "height": 206
        },
        "id": "5zfvtKMqlPfh",
        "outputId": "67f0191c-cb85-43ae-a0dd-812181565911"
      },
      "execution_count": null,
      "outputs": [
        {
          "output_type": "execute_result",
          "data": {
            "text/plain": [
              "   sex  length  diameter  height  whole_weight  shucked_weight  \\\n",
              "0    0   0.455     0.365   0.095        0.5140          0.2245   \n",
              "1    0   0.350     0.265   0.090        0.2255          0.0995   \n",
              "2    1   0.530     0.420   0.135        0.6770          0.2565   \n",
              "3    0   0.440     0.365   0.125        0.5160          0.2155   \n",
              "4    2   0.330     0.255   0.080        0.2050          0.0895   \n",
              "\n",
              "   viscera_weight  shell_weight  rings  \n",
              "0          0.1010         0.150     15  \n",
              "1          0.0485         0.070      7  \n",
              "2          0.1415         0.210      9  \n",
              "3          0.1140         0.155     10  \n",
              "4          0.0395         0.055      7  "
            ],
            "text/html": [
              "\n",
              "  <div id=\"df-2d687ca6-d268-4a0b-a1de-eb5cb2402f1f\">\n",
              "    <div class=\"colab-df-container\">\n",
              "      <div>\n",
              "<style scoped>\n",
              "    .dataframe tbody tr th:only-of-type {\n",
              "        vertical-align: middle;\n",
              "    }\n",
              "\n",
              "    .dataframe tbody tr th {\n",
              "        vertical-align: top;\n",
              "    }\n",
              "\n",
              "    .dataframe thead th {\n",
              "        text-align: right;\n",
              "    }\n",
              "</style>\n",
              "<table border=\"1\" class=\"dataframe\">\n",
              "  <thead>\n",
              "    <tr style=\"text-align: right;\">\n",
              "      <th></th>\n",
              "      <th>sex</th>\n",
              "      <th>length</th>\n",
              "      <th>diameter</th>\n",
              "      <th>height</th>\n",
              "      <th>whole_weight</th>\n",
              "      <th>shucked_weight</th>\n",
              "      <th>viscera_weight</th>\n",
              "      <th>shell_weight</th>\n",
              "      <th>rings</th>\n",
              "    </tr>\n",
              "  </thead>\n",
              "  <tbody>\n",
              "    <tr>\n",
              "      <th>0</th>\n",
              "      <td>0</td>\n",
              "      <td>0.455</td>\n",
              "      <td>0.365</td>\n",
              "      <td>0.095</td>\n",
              "      <td>0.5140</td>\n",
              "      <td>0.2245</td>\n",
              "      <td>0.1010</td>\n",
              "      <td>0.150</td>\n",
              "      <td>15</td>\n",
              "    </tr>\n",
              "    <tr>\n",
              "      <th>1</th>\n",
              "      <td>0</td>\n",
              "      <td>0.350</td>\n",
              "      <td>0.265</td>\n",
              "      <td>0.090</td>\n",
              "      <td>0.2255</td>\n",
              "      <td>0.0995</td>\n",
              "      <td>0.0485</td>\n",
              "      <td>0.070</td>\n",
              "      <td>7</td>\n",
              "    </tr>\n",
              "    <tr>\n",
              "      <th>2</th>\n",
              "      <td>1</td>\n",
              "      <td>0.530</td>\n",
              "      <td>0.420</td>\n",
              "      <td>0.135</td>\n",
              "      <td>0.6770</td>\n",
              "      <td>0.2565</td>\n",
              "      <td>0.1415</td>\n",
              "      <td>0.210</td>\n",
              "      <td>9</td>\n",
              "    </tr>\n",
              "    <tr>\n",
              "      <th>3</th>\n",
              "      <td>0</td>\n",
              "      <td>0.440</td>\n",
              "      <td>0.365</td>\n",
              "      <td>0.125</td>\n",
              "      <td>0.5160</td>\n",
              "      <td>0.2155</td>\n",
              "      <td>0.1140</td>\n",
              "      <td>0.155</td>\n",
              "      <td>10</td>\n",
              "    </tr>\n",
              "    <tr>\n",
              "      <th>4</th>\n",
              "      <td>2</td>\n",
              "      <td>0.330</td>\n",
              "      <td>0.255</td>\n",
              "      <td>0.080</td>\n",
              "      <td>0.2050</td>\n",
              "      <td>0.0895</td>\n",
              "      <td>0.0395</td>\n",
              "      <td>0.055</td>\n",
              "      <td>7</td>\n",
              "    </tr>\n",
              "  </tbody>\n",
              "</table>\n",
              "</div>\n",
              "      <button class=\"colab-df-convert\" onclick=\"convertToInteractive('df-2d687ca6-d268-4a0b-a1de-eb5cb2402f1f')\"\n",
              "              title=\"Convert this dataframe to an interactive table.\"\n",
              "              style=\"display:none;\">\n",
              "        \n",
              "  <svg xmlns=\"http://www.w3.org/2000/svg\" height=\"24px\"viewBox=\"0 0 24 24\"\n",
              "       width=\"24px\">\n",
              "    <path d=\"M0 0h24v24H0V0z\" fill=\"none\"/>\n",
              "    <path d=\"M18.56 5.44l.94 2.06.94-2.06 2.06-.94-2.06-.94-.94-2.06-.94 2.06-2.06.94zm-11 1L8.5 8.5l.94-2.06 2.06-.94-2.06-.94L8.5 2.5l-.94 2.06-2.06.94zm10 10l.94 2.06.94-2.06 2.06-.94-2.06-.94-.94-2.06-.94 2.06-2.06.94z\"/><path d=\"M17.41 7.96l-1.37-1.37c-.4-.4-.92-.59-1.43-.59-.52 0-1.04.2-1.43.59L10.3 9.45l-7.72 7.72c-.78.78-.78 2.05 0 2.83L4 21.41c.39.39.9.59 1.41.59.51 0 1.02-.2 1.41-.59l7.78-7.78 2.81-2.81c.8-.78.8-2.07 0-2.86zM5.41 20L4 18.59l7.72-7.72 1.47 1.35L5.41 20z\"/>\n",
              "  </svg>\n",
              "      </button>\n",
              "      \n",
              "  <style>\n",
              "    .colab-df-container {\n",
              "      display:flex;\n",
              "      flex-wrap:wrap;\n",
              "      gap: 12px;\n",
              "    }\n",
              "\n",
              "    .colab-df-convert {\n",
              "      background-color: #E8F0FE;\n",
              "      border: none;\n",
              "      border-radius: 50%;\n",
              "      cursor: pointer;\n",
              "      display: none;\n",
              "      fill: #1967D2;\n",
              "      height: 32px;\n",
              "      padding: 0 0 0 0;\n",
              "      width: 32px;\n",
              "    }\n",
              "\n",
              "    .colab-df-convert:hover {\n",
              "      background-color: #E2EBFA;\n",
              "      box-shadow: 0px 1px 2px rgba(60, 64, 67, 0.3), 0px 1px 3px 1px rgba(60, 64, 67, 0.15);\n",
              "      fill: #174EA6;\n",
              "    }\n",
              "\n",
              "    [theme=dark] .colab-df-convert {\n",
              "      background-color: #3B4455;\n",
              "      fill: #D2E3FC;\n",
              "    }\n",
              "\n",
              "    [theme=dark] .colab-df-convert:hover {\n",
              "      background-color: #434B5C;\n",
              "      box-shadow: 0px 1px 3px 1px rgba(0, 0, 0, 0.15);\n",
              "      filter: drop-shadow(0px 1px 2px rgba(0, 0, 0, 0.3));\n",
              "      fill: #FFFFFF;\n",
              "    }\n",
              "  </style>\n",
              "\n",
              "      <script>\n",
              "        const buttonEl =\n",
              "          document.querySelector('#df-2d687ca6-d268-4a0b-a1de-eb5cb2402f1f button.colab-df-convert');\n",
              "        buttonEl.style.display =\n",
              "          google.colab.kernel.accessAllowed ? 'block' : 'none';\n",
              "\n",
              "        async function convertToInteractive(key) {\n",
              "          const element = document.querySelector('#df-2d687ca6-d268-4a0b-a1de-eb5cb2402f1f');\n",
              "          const dataTable =\n",
              "            await google.colab.kernel.invokeFunction('convertToInteractive',\n",
              "                                                     [key], {});\n",
              "          if (!dataTable) return;\n",
              "\n",
              "          const docLinkHtml = 'Like what you see? Visit the ' +\n",
              "            '<a target=\"_blank\" href=https://colab.research.google.com/notebooks/data_table.ipynb>data table notebook</a>'\n",
              "            + ' to learn more about interactive tables.';\n",
              "          element.innerHTML = '';\n",
              "          dataTable['output_type'] = 'display_data';\n",
              "          await google.colab.output.renderOutput(dataTable, element);\n",
              "          const docLink = document.createElement('div');\n",
              "          docLink.innerHTML = docLinkHtml;\n",
              "          element.appendChild(docLink);\n",
              "        }\n",
              "      </script>\n",
              "    </div>\n",
              "  </div>\n",
              "  "
            ]
          },
          "metadata": {},
          "execution_count": 38
        }
      ]
    },
    {
      "cell_type": "code",
      "source": [
        "# Convert the sex column to numerical values\n",
        "df[\"sex\"] = pd.factorize(df[\"sex\"])[0]"
      ],
      "metadata": {
        "id": "6FM9osQHkQ3m"
      },
      "execution_count": null,
      "outputs": []
    },
    {
      "cell_type": "code",
      "source": [
        "# Split the dataset into training and test sets\n",
        "X_train, X_test, y_train, y_test = train_test_split(df.drop(\"rings\", axis=1), df[\"rings\"], test_size=0.2, random_state=42)"
      ],
      "metadata": {
        "id": "hih4RJBxkbrZ"
      },
      "execution_count": null,
      "outputs": []
    },
    {
      "cell_type": "code",
      "source": [
        "# Train a KNN classifier on the training set\n",
        "k = 5\n",
        "knn = KNeighborsClassifier(n_neighbors=k)\n",
        "knn.fit(X_train, y_train)"
      ],
      "metadata": {
        "colab": {
          "base_uri": "https://localhost:8080/",
          "height": 74
        },
        "id": "YvT0dbo7klLO",
        "outputId": "0a2d97fa-012f-4fd0-b797-2d90a2440e8e"
      },
      "execution_count": null,
      "outputs": [
        {
          "output_type": "execute_result",
          "data": {
            "text/plain": [
              "KNeighborsClassifier()"
            ],
            "text/html": [
              "<style>#sk-container-id-3 {color: black;background-color: white;}#sk-container-id-3 pre{padding: 0;}#sk-container-id-3 div.sk-toggleable {background-color: white;}#sk-container-id-3 label.sk-toggleable__label {cursor: pointer;display: block;width: 100%;margin-bottom: 0;padding: 0.3em;box-sizing: border-box;text-align: center;}#sk-container-id-3 label.sk-toggleable__label-arrow:before {content: \"▸\";float: left;margin-right: 0.25em;color: #696969;}#sk-container-id-3 label.sk-toggleable__label-arrow:hover:before {color: black;}#sk-container-id-3 div.sk-estimator:hover label.sk-toggleable__label-arrow:before {color: black;}#sk-container-id-3 div.sk-toggleable__content {max-height: 0;max-width: 0;overflow: hidden;text-align: left;background-color: #f0f8ff;}#sk-container-id-3 div.sk-toggleable__content pre {margin: 0.2em;color: black;border-radius: 0.25em;background-color: #f0f8ff;}#sk-container-id-3 input.sk-toggleable__control:checked~div.sk-toggleable__content {max-height: 200px;max-width: 100%;overflow: auto;}#sk-container-id-3 input.sk-toggleable__control:checked~label.sk-toggleable__label-arrow:before {content: \"▾\";}#sk-container-id-3 div.sk-estimator input.sk-toggleable__control:checked~label.sk-toggleable__label {background-color: #d4ebff;}#sk-container-id-3 div.sk-label input.sk-toggleable__control:checked~label.sk-toggleable__label {background-color: #d4ebff;}#sk-container-id-3 input.sk-hidden--visually {border: 0;clip: rect(1px 1px 1px 1px);clip: rect(1px, 1px, 1px, 1px);height: 1px;margin: -1px;overflow: hidden;padding: 0;position: absolute;width: 1px;}#sk-container-id-3 div.sk-estimator {font-family: monospace;background-color: #f0f8ff;border: 1px dotted black;border-radius: 0.25em;box-sizing: border-box;margin-bottom: 0.5em;}#sk-container-id-3 div.sk-estimator:hover {background-color: #d4ebff;}#sk-container-id-3 div.sk-parallel-item::after {content: \"\";width: 100%;border-bottom: 1px solid gray;flex-grow: 1;}#sk-container-id-3 div.sk-label:hover label.sk-toggleable__label {background-color: #d4ebff;}#sk-container-id-3 div.sk-serial::before {content: \"\";position: absolute;border-left: 1px solid gray;box-sizing: border-box;top: 0;bottom: 0;left: 50%;z-index: 0;}#sk-container-id-3 div.sk-serial {display: flex;flex-direction: column;align-items: center;background-color: white;padding-right: 0.2em;padding-left: 0.2em;position: relative;}#sk-container-id-3 div.sk-item {position: relative;z-index: 1;}#sk-container-id-3 div.sk-parallel {display: flex;align-items: stretch;justify-content: center;background-color: white;position: relative;}#sk-container-id-3 div.sk-item::before, #sk-container-id-3 div.sk-parallel-item::before {content: \"\";position: absolute;border-left: 1px solid gray;box-sizing: border-box;top: 0;bottom: 0;left: 50%;z-index: -1;}#sk-container-id-3 div.sk-parallel-item {display: flex;flex-direction: column;z-index: 1;position: relative;background-color: white;}#sk-container-id-3 div.sk-parallel-item:first-child::after {align-self: flex-end;width: 50%;}#sk-container-id-3 div.sk-parallel-item:last-child::after {align-self: flex-start;width: 50%;}#sk-container-id-3 div.sk-parallel-item:only-child::after {width: 0;}#sk-container-id-3 div.sk-dashed-wrapped {border: 1px dashed gray;margin: 0 0.4em 0.5em 0.4em;box-sizing: border-box;padding-bottom: 0.4em;background-color: white;}#sk-container-id-3 div.sk-label label {font-family: monospace;font-weight: bold;display: inline-block;line-height: 1.2em;}#sk-container-id-3 div.sk-label-container {text-align: center;}#sk-container-id-3 div.sk-container {/* jupyter's `normalize.less` sets `[hidden] { display: none; }` but bootstrap.min.css set `[hidden] { display: none !important; }` so we also need the `!important` here to be able to override the default hidden behavior on the sphinx rendered scikit-learn.org. See: https://github.com/scikit-learn/scikit-learn/issues/21755 */display: inline-block !important;position: relative;}#sk-container-id-3 div.sk-text-repr-fallback {display: none;}</style><div id=\"sk-container-id-3\" class=\"sk-top-container\"><div class=\"sk-text-repr-fallback\"><pre>KNeighborsClassifier()</pre><b>In a Jupyter environment, please rerun this cell to show the HTML representation or trust the notebook. <br />On GitHub, the HTML representation is unable to render, please try loading this page with nbviewer.org.</b></div><div class=\"sk-container\" hidden><div class=\"sk-item\"><div class=\"sk-estimator sk-toggleable\"><input class=\"sk-toggleable__control sk-hidden--visually\" id=\"sk-estimator-id-3\" type=\"checkbox\" checked><label for=\"sk-estimator-id-3\" class=\"sk-toggleable__label sk-toggleable__label-arrow\">KNeighborsClassifier</label><div class=\"sk-toggleable__content\"><pre>KNeighborsClassifier()</pre></div></div></div></div></div>"
            ]
          },
          "metadata": {},
          "execution_count": 35
        }
      ]
    },
    {
      "cell_type": "code",
      "source": [
        "# Predict the number of rings on the test set\n",
        "y_pred = knn.predict(X_test) \n",
        "print(\"Number of Rings : \",y_pred)"
      ],
      "metadata": {
        "colab": {
          "base_uri": "https://localhost:8080/"
        },
        "id": "I3aGO_bdkrlp",
        "outputId": "9c91e158-73d4-4a06-8018-24322a68a5ad"
      },
      "execution_count": null,
      "outputs": [
        {
          "output_type": "stream",
          "name": "stdout",
          "text": [
            "Number of Rings :  [ 9  9 12 11 14  8  9  7  7  8 10  7 13  6  8 14 10 10 11  8 12  9  9  9\n",
            " 10  8  9  7  9  9 10  7  7 12  8  8  6  4  6  7 11 20  9  8 10 12  9  8\n",
            " 10  3  6 17  9  3  6 11  9 11  9  9 11  9  8  6  7 11  4  7  9  9  9  8\n",
            "  9  7 11 11 16 10  9  9 13  8 10  8  6 13  8  9 11 10 11 12 11 11 11  8\n",
            "  6  9  8  7 12  9 11 11  8  8 11 10  9 10 10  8 10  8  8  5  8  8 10 11\n",
            " 10 10  8 16 11 11 10  9  9 16  8  8  8  4  5  7  9 10  5 11  7  9  7  9\n",
            " 13 13  9  9  8 11  9 10  9  9  9  7 10  5  8  7  9  7 10 13  7 10 11 10\n",
            " 10  9  8 11 10  9  7  8  8 13  9  9 12  8  6  8  6  8  8  9  9  5  8 10\n",
            " 17 11 10  9 13 10 12  9  8 11 13  7  9  9 11  9  8 10  5 11 11  7  8 12\n",
            " 11  7  8 11  9  9 10 11  9  7  7 12  9 13  4 11 11 10  7 11  9  5  6  9\n",
            "  8 21  8  7  8  8  9  7  7  7  6 10 11  6  9 10 10  4 11 10 13  7  8  8\n",
            "  9  5  5  8 10  6 10  9  6 10  8 11 10 10 11  4 19  7  9  8  6  9 10  4\n",
            " 11 14  9  3 15  5  7  7  4 10  7 10 10  9  6 11  9  9  9  8  6  5  9  7\n",
            "  8 10  8  9  3  9  8  8  8  5  7  8  8  5 10 10  8  7  8 17  7  9 11  8\n",
            "  8 10  8  8  9  9 12  8  8 10  9 12  8  8 14  9  9  9  8  4  7  6  4  8\n",
            "  9  6 13  7 10  7 10  9  9  5 17  9  8  6  9 10  7  8  8  8  8  7  9 13\n",
            " 10  4 12 11  9  6 10  6 12 13  8  8 11 13  9 11 11  7 10  8  6 12  9  8\n",
            "  9 11 12 12  7  9 12  5  3  8 10  9  9 12 10 10  9 11 12 10 10  8  9  8\n",
            " 10 12 10  6 10  5  9 10  7  9  9 10 10 11  8  9 11 11  8  9  5  8  7  8\n",
            "  7 11 10  6  9  9 12  9  8  5 10  9  7  9  8 10  8  9 11  7 16 12  8 10\n",
            "  9 11  8 12  8  7 10 11  9  7 10 17  6 12 13  9  8  6  6 10  8 10  3 11\n",
            "  8  7  7  9 10 11  7  9  9  8 10  8  3 12  9 10  7  7 11  8  7  7  9 11\n",
            " 14 12  7  9  4 18 13  6  8 10 12 10  7  5  9  9  5  7  8  9  9  8  7 10\n",
            " 12  9  6  6  9  6  7 10 12  8  9  8  7 11 11 11  5 10  8  6  7  8  9 10\n",
            "  6 11  7  8  7  6  8  7 15 13  6  9  8 11  8  9  9  8  9  8  6  9  7  9\n",
            " 10 14  8 11 11  9 10  6 10  9  7  7  4  9  8  8 10 12  6  8 10  8  8  6\n",
            "  8  9  8 11  9  9  8  8  9 10 15 11  9 10  7  9  8  6  5  8  9  8 10  9\n",
            "  8 13 12  6  5 10 12 10  6  6  9 12 10  7 12 20  8  8 10 15  4 10  7  9\n",
            " 13  8  8 10  8  9 11  8 11  9  5  8 11  9 11 11  7  8  9  9 10 11 14  7\n",
            "  8 12 10  9 12 13  9  9 10 11  6  7  8  4 10  9  9  7 12  8 11  8  8  9\n",
            " 10 12  7  9 10 10 11  9  7  6 13  8  9 10 13  5  9  9  9  8 10 10  6 13\n",
            "  9 14  5  9  7  9  7 10 10 16 12  8 10  8  8  8 10  7  8  9  9  9  9 10\n",
            "  8  7  9  7 10  7  8  9  4  8 11 10 15 12  9 11 10 10 12  6  7  9  4  6\n",
            " 18  9 10 11 14 17 10  4 10  6 12  9  9  3  9 13  9 10 11  8 10  6 10 10\n",
            " 10 10  8  7  9  8  9  8  6  6  3  6  8 12 10 11  8  8  8  6]\n"
          ]
        }
      ]
    },
    {
      "cell_type": "code",
      "source": [
        "# Calculate the accuracy of the classifier\n",
        "accuracy = accuracy_score(y_test, y_pred)\n",
        "print(\"Accuracy:\", 100*accuracy)"
      ],
      "metadata": {
        "colab": {
          "base_uri": "https://localhost:8080/"
        },
        "id": "aYV9M2fCk5Gv",
        "outputId": "54b932ec-dae4-4692-8b3a-529edeab04d0"
      },
      "execution_count": null,
      "outputs": [
        {
          "output_type": "stream",
          "name": "stdout",
          "text": [
            "Accuracy: 23.086124401913878\n"
          ]
        }
      ]
    },
    {
      "cell_type": "markdown",
      "source": [
        "AGE PREDICATION USING LINEAR REGRESSION\n"
      ],
      "metadata": {
        "id": "Hm8EuL2mlY2L"
      }
    },
    {
      "cell_type": "code",
      "source": [
        "a = df.drop(\"rings\", axis=1)\n",
        "b = df[\"rings\"] + 1.5  # Convert the number of rings to age in years"
      ],
      "metadata": {
        "id": "T2xWroltlXjz"
      },
      "execution_count": null,
      "outputs": []
    },
    {
      "cell_type": "code",
      "source": [
        "# Split the dataset into training and test sets\n",
        "train_size = int(0.8 * len(df))\n",
        "a_train, a_test = a[:train_size], a[train_size:]\n",
        "b_train, b_test = b[:train_size], b[train_size:]"
      ],
      "metadata": {
        "id": "dxywAG3nmG7A"
      },
      "execution_count": null,
      "outputs": []
    },
    {
      "cell_type": "code",
      "source": [
        "# Fit a linear regression model on the training set\n",
        "model = LinearRegression()\n",
        "model.fit(a_train, b_train)"
      ],
      "metadata": {
        "colab": {
          "base_uri": "https://localhost:8080/",
          "height": 74
        },
        "id": "Xml8Nv2EmPk6",
        "outputId": "a8b8278f-1073-4905-fbfa-76d4dcad575b"
      },
      "execution_count": null,
      "outputs": [
        {
          "output_type": "execute_result",
          "data": {
            "text/plain": [
              "LinearRegression()"
            ],
            "text/html": [
              "<style>#sk-container-id-4 {color: black;background-color: white;}#sk-container-id-4 pre{padding: 0;}#sk-container-id-4 div.sk-toggleable {background-color: white;}#sk-container-id-4 label.sk-toggleable__label {cursor: pointer;display: block;width: 100%;margin-bottom: 0;padding: 0.3em;box-sizing: border-box;text-align: center;}#sk-container-id-4 label.sk-toggleable__label-arrow:before {content: \"▸\";float: left;margin-right: 0.25em;color: #696969;}#sk-container-id-4 label.sk-toggleable__label-arrow:hover:before {color: black;}#sk-container-id-4 div.sk-estimator:hover label.sk-toggleable__label-arrow:before {color: black;}#sk-container-id-4 div.sk-toggleable__content {max-height: 0;max-width: 0;overflow: hidden;text-align: left;background-color: #f0f8ff;}#sk-container-id-4 div.sk-toggleable__content pre {margin: 0.2em;color: black;border-radius: 0.25em;background-color: #f0f8ff;}#sk-container-id-4 input.sk-toggleable__control:checked~div.sk-toggleable__content {max-height: 200px;max-width: 100%;overflow: auto;}#sk-container-id-4 input.sk-toggleable__control:checked~label.sk-toggleable__label-arrow:before {content: \"▾\";}#sk-container-id-4 div.sk-estimator input.sk-toggleable__control:checked~label.sk-toggleable__label {background-color: #d4ebff;}#sk-container-id-4 div.sk-label input.sk-toggleable__control:checked~label.sk-toggleable__label {background-color: #d4ebff;}#sk-container-id-4 input.sk-hidden--visually {border: 0;clip: rect(1px 1px 1px 1px);clip: rect(1px, 1px, 1px, 1px);height: 1px;margin: -1px;overflow: hidden;padding: 0;position: absolute;width: 1px;}#sk-container-id-4 div.sk-estimator {font-family: monospace;background-color: #f0f8ff;border: 1px dotted black;border-radius: 0.25em;box-sizing: border-box;margin-bottom: 0.5em;}#sk-container-id-4 div.sk-estimator:hover {background-color: #d4ebff;}#sk-container-id-4 div.sk-parallel-item::after {content: \"\";width: 100%;border-bottom: 1px solid gray;flex-grow: 1;}#sk-container-id-4 div.sk-label:hover label.sk-toggleable__label {background-color: #d4ebff;}#sk-container-id-4 div.sk-serial::before {content: \"\";position: absolute;border-left: 1px solid gray;box-sizing: border-box;top: 0;bottom: 0;left: 50%;z-index: 0;}#sk-container-id-4 div.sk-serial {display: flex;flex-direction: column;align-items: center;background-color: white;padding-right: 0.2em;padding-left: 0.2em;position: relative;}#sk-container-id-4 div.sk-item {position: relative;z-index: 1;}#sk-container-id-4 div.sk-parallel {display: flex;align-items: stretch;justify-content: center;background-color: white;position: relative;}#sk-container-id-4 div.sk-item::before, #sk-container-id-4 div.sk-parallel-item::before {content: \"\";position: absolute;border-left: 1px solid gray;box-sizing: border-box;top: 0;bottom: 0;left: 50%;z-index: -1;}#sk-container-id-4 div.sk-parallel-item {display: flex;flex-direction: column;z-index: 1;position: relative;background-color: white;}#sk-container-id-4 div.sk-parallel-item:first-child::after {align-self: flex-end;width: 50%;}#sk-container-id-4 div.sk-parallel-item:last-child::after {align-self: flex-start;width: 50%;}#sk-container-id-4 div.sk-parallel-item:only-child::after {width: 0;}#sk-container-id-4 div.sk-dashed-wrapped {border: 1px dashed gray;margin: 0 0.4em 0.5em 0.4em;box-sizing: border-box;padding-bottom: 0.4em;background-color: white;}#sk-container-id-4 div.sk-label label {font-family: monospace;font-weight: bold;display: inline-block;line-height: 1.2em;}#sk-container-id-4 div.sk-label-container {text-align: center;}#sk-container-id-4 div.sk-container {/* jupyter's `normalize.less` sets `[hidden] { display: none; }` but bootstrap.min.css set `[hidden] { display: none !important; }` so we also need the `!important` here to be able to override the default hidden behavior on the sphinx rendered scikit-learn.org. See: https://github.com/scikit-learn/scikit-learn/issues/21755 */display: inline-block !important;position: relative;}#sk-container-id-4 div.sk-text-repr-fallback {display: none;}</style><div id=\"sk-container-id-4\" class=\"sk-top-container\"><div class=\"sk-text-repr-fallback\"><pre>LinearRegression()</pre><b>In a Jupyter environment, please rerun this cell to show the HTML representation or trust the notebook. <br />On GitHub, the HTML representation is unable to render, please try loading this page with nbviewer.org.</b></div><div class=\"sk-container\" hidden><div class=\"sk-item\"><div class=\"sk-estimator sk-toggleable\"><input class=\"sk-toggleable__control sk-hidden--visually\" id=\"sk-estimator-id-4\" type=\"checkbox\" checked><label for=\"sk-estimator-id-4\" class=\"sk-toggleable__label sk-toggleable__label-arrow\">LinearRegression</label><div class=\"sk-toggleable__content\"><pre>LinearRegression()</pre></div></div></div></div></div>"
            ]
          },
          "metadata": {},
          "execution_count": 42
        }
      ]
    },
    {
      "cell_type": "code",
      "source": [
        "# Predict the age of abalone on the test set\n",
        "b_pred = model.predict(a_test)\n",
        "print(\"Age of Abalone: \",b_pred)"
      ],
      "metadata": {
        "colab": {
          "base_uri": "https://localhost:8080/"
        },
        "id": "eKGvdFQ5mUOx",
        "outputId": "7d1f5899-2bd2-4574-c439-3ccc65cec5cd"
      },
      "execution_count": null,
      "outputs": [
        {
          "output_type": "stream",
          "name": "stdout",
          "text": [
            "Age of Abalone:  [12.09867928 10.51388587 11.04622942 12.31654767 11.96733305 13.16283283\n",
            " 10.50549964  9.48554794 11.1661782  11.633884   11.52066785 11.46613163\n",
            " 10.92205405 10.02597609 10.19327158  8.91493582  8.82685725  8.62831084\n",
            " 14.69616418 13.91354149 10.16610808  9.94229996 10.84709509  9.2046948\n",
            "  9.91625581  8.44690334 15.71960146 13.4246413  15.50916619 11.10902772\n",
            "  9.14575755 11.72850826 14.36001123 10.60127022  9.94396053  8.27457211\n",
            "  7.62674689  9.28874744  7.78250719  6.47311536 14.60525613 11.85759838\n",
            " 11.38352613  8.33121614 10.09333681 12.62660276 13.948938   11.67601905\n",
            " 14.15095533 11.30068814 14.0168018  14.99814214 13.8726465  13.91039875\n",
            " 16.98494305 15.63239039 12.30084117  9.72282601 10.26292622 13.95124693\n",
            " 13.99762195 13.18990462  9.22295118  9.93186745  8.10427648  8.74627996\n",
            "  8.40001339  9.1553518   9.27998426  8.90198112  8.85807956 10.42812019\n",
            " 10.79550277 10.16520542 13.48142558 10.54932407 11.45720076 14.19883594\n",
            " 11.39628764 14.61536119 11.94052294 11.76650016 11.8297844  14.37896871\n",
            " 13.86957792 13.03106087 12.63507259  7.19441615  7.64505316  8.10325624\n",
            "  8.81115596  8.64058777  8.76364762  8.27021833  8.88566705  8.89030328\n",
            "  8.79095466  8.99764038  9.84866019  9.73468658 10.29695755  9.56895195\n",
            " 10.00653412 10.57569603 10.79029061  9.59152262 10.5033651  10.71207606\n",
            " 10.29943327 11.30995355 13.07600596 10.59585293 10.5052078  11.75361437\n",
            " 12.90445343 11.5066557  13.00000557 11.8340808  12.4640032  12.13522226\n",
            " 13.38768604 13.89475557 15.03131363 12.69803316 13.49573539 12.45449839\n",
            " 14.23619256 12.78516706 16.2406121  16.3215305  11.20261335  6.46348977\n",
            "  6.78066336  8.07851871  9.1183844   9.10858864  8.85371718  8.96867209\n",
            "  8.78315296  9.26244636  8.80723795 10.94601292 10.45355037 10.50066913\n",
            "  7.71896668 12.29022145  9.82728049 10.24275977 11.35666655 11.80508444\n",
            " 11.83980359 11.38723418 11.57956682 10.62595314 10.69081755 11.40374581\n",
            " 10.08318205 12.55679253 11.86079241 11.11886341 13.00788062 12.67611354\n",
            " 13.7278196  11.89959557 13.24060861 10.59191308 12.0491974  11.73886317\n",
            " 11.72450066 11.79462647 11.56479787 11.66836326 13.9556094  12.13266851\n",
            " 13.10364506 13.7470824  10.99789144  7.26221014 11.96486868 12.63585681\n",
            "  6.7997558   7.37512697  7.65924536  8.06496305  8.02167688  8.26369693\n",
            "  8.62149541  8.50485009  8.38475967  8.44283789  8.48720967  8.97245485\n",
            "  9.06709844  8.96557786  8.48984946  9.55467158  9.68256656 10.39773842\n",
            "  9.87362984 10.21859083  9.32951743 10.86212663  9.37882451  9.95834317\n",
            " 10.0842068   9.5503339   9.90074156 10.10177101 10.43744059 10.8670724\n",
            " 10.43022189  9.61985827 10.73625761 11.1125816  12.43090702 11.0794191\n",
            " 10.59595459 10.75386468 12.59259334 10.28736044 11.01076445 10.58305157\n",
            " 12.55989768  9.28274722 12.99358553 12.86867693 11.78450793 11.245355\n",
            " 10.97449362 11.6688731  12.20126507 11.66310311 12.28266794 12.25850439\n",
            " 12.61984299 14.16719507 13.90312668 12.24848719 12.31326498 12.22789246\n",
            " 11.38588395 11.7092301  12.8214099  13.90534227 11.08692588 12.4722286\n",
            " 11.93500358 11.81417452 13.46858235 13.58912663 11.9980934  12.7707023\n",
            " 14.8741893  11.58608953 12.26016486 11.73872004 14.392943   13.54843895\n",
            " 11.7810038   6.3588312   8.51264649  8.63590823  9.87667853  9.57295136\n",
            "  8.93046661  9.79394876 10.04236216 11.32200331  9.50733965 11.5704306\n",
            " 11.97728059 14.76927098 10.40174255 13.28318216 10.63861282 13.23520754\n",
            " 10.72886744 13.0523602  12.62312986 11.7401317  11.32726209 12.33778965\n",
            " 12.61521953 12.15008791 13.91785863 14.95140824 10.55711458 14.36551318\n",
            "  7.55064593  7.94497212  7.85651438  7.96319576  7.80875571  8.54348301\n",
            "  9.00616181  8.6619257   9.66109537 10.34926288  9.27979631 10.19628403\n",
            " 10.87692753  9.68562577 10.32907873 10.2921102   9.75103389 10.07367428\n",
            " 10.81568903 10.86687596 11.71419078 10.59878229 10.26195613 10.74581165\n",
            "  9.75145535 11.65325369 11.33183638 10.50500068 11.20403582 12.04402091\n",
            " 11.29785633 11.24971654 11.06379347 11.77536045 10.60510793 11.46269044\n",
            "  9.65701361 10.0546408  12.30577422 12.2459314  12.32830223 12.85824973\n",
            " 11.67545754 10.38881553 12.26806539 11.47376427 13.19829219 12.33387335\n",
            " 13.76183214 14.22778632 11.66156033 12.99297983 12.08064688 10.90116016\n",
            " 14.7531579  11.93424156 12.62506881 11.79702269 11.81922999 12.34835998\n",
            " 14.0782336  14.72182591 14.30695365 13.2018759  12.8467905  12.45891695\n",
            " 13.27287115 13.15567643 14.72620366 13.39232791 14.14269184 13.55128927\n",
            " 14.91603624 12.44758703 12.62174752 13.90664446 13.75755424 12.289957\n",
            " 10.0706597  13.98400867 12.86144568 14.89912365 14.29230598 14.39099001\n",
            "  7.72325154 11.93338707 13.44887442  6.68277187  8.94331063  8.4690171\n",
            "  8.02894983  9.21607691 10.37352395  8.5880143  10.66149275 10.86536055\n",
            " 10.71809464 11.26267294 11.4719497  10.79867657 10.19836535  8.92090729\n",
            " 11.54586563  8.89641529 11.06025294 13.5360889  12.13855474 12.19532857\n",
            " 11.26181591 13.42000395 10.89463627 10.66356282 13.67030857 12.83912882\n",
            " 15.12097824  7.63702472  7.67323112  8.82821188  9.23734299  9.19705649\n",
            " 10.16101198 10.83725403  9.31095534 10.21956036 10.07633329 10.20239914\n",
            " 10.52441208 10.72650861 10.50282331 11.455921   13.25383767 12.35478912\n",
            " 11.64280577 10.61923055 11.44196885 11.26159515 12.43491164 12.73078308\n",
            " 13.73055506 13.57563302 11.32740692 11.35046239 11.7540498  10.83912085\n",
            " 13.94295073 11.32063282 13.14568762 11.52189577 12.63025442 10.49476225\n",
            " 12.48055096 13.35519734 11.10333708 13.17844413 11.3911381  12.06714231\n",
            " 13.22628939 12.49612792 15.04656448 12.54174477 13.02326054 13.88539867\n",
            " 13.43099963 14.6154645  15.15730259 13.16800395 15.71452196 14.62179718\n",
            " 17.55085684 15.37750143 14.71502618 18.84566818  6.69244569  8.10209928\n",
            "  7.63112725  8.51736673  9.48828829  8.95299163  9.08798894 11.04289714\n",
            " 11.16303755 10.85627846 11.53764443 13.45011901  8.57617586  9.96753788\n",
            "  9.14829124 10.05318861 10.58988465 11.50679576 11.20844309 12.90581064\n",
            " 13.63636337 13.88515622 11.18915263 11.5292821  14.51353905 14.65665537\n",
            " 19.02202816 11.50768039 15.44634365 12.77930537 13.74473465 11.62919539\n",
            " 12.04910059  9.58892589 11.21008401 10.45573872  6.00372115  8.31775905\n",
            " 10.66785502 11.02763783 12.15991044 13.37726592 12.48950654 14.91095377\n",
            " 11.08392366  8.49797244 10.95208295 15.05648829  9.65193703  9.87398249\n",
            " 14.71365093 13.39497123 11.1866932  13.35633107 10.76700918  8.49929652\n",
            " 17.67134103 14.91065432 12.27189413 14.17896846 17.56695623 11.19704126\n",
            " 15.79914216  8.09285846 13.85924728 12.12250117 11.4172471  10.89939189\n",
            " 11.96369077 13.06309165 10.39028532 12.03835861  8.307831   12.65898813\n",
            "  8.95681726 15.70231315 15.33257633 11.3472264  11.69724153  9.11799616\n",
            " 12.16323088 16.58044535 13.00941548  7.54518183  9.5221426  11.02969993\n",
            " 11.15169484 10.62445626 15.99624698 11.71577603 15.1044505  14.34516772\n",
            " 11.16476679 11.79775918 14.70415418 17.23816708 13.7498926  13.17645696\n",
            "  6.08119889 10.67846536 11.69504688  6.07549862 15.26540734 15.50731785\n",
            "  9.60350265  8.04086137 10.89936096 11.08929195 10.53722298 11.74226981\n",
            "  9.13332964 11.22508337 11.05211349 12.97546037 11.3189531  12.34332265\n",
            " 13.19141334 14.00932178 12.68809978  9.09621489  9.88422007 12.54910263\n",
            "  9.70617891 12.65573481 10.5360053  11.67498597 10.89421205 17.40874886\n",
            " 15.70891707 15.40196324 13.70460588 12.15117823  7.23446435  7.42846033\n",
            " 13.53965547 12.67861709 14.19585618  9.17849228 12.771052   11.32522486\n",
            " 14.44431526 11.27078503 16.01160517 15.57289793  7.22732176 13.76284746\n",
            " 12.5718888  12.34924179 13.55895391 13.92001978 13.05119505  7.92294378\n",
            " 10.57658262  9.90306576 10.43680208 12.02160718 11.20042037 14.27644039\n",
            " 13.84623095 14.15605181 10.16211866 12.66111538  7.39802715  7.30398635\n",
            "  7.76731808  7.78202172  7.99970208  8.97083813  8.07924151  8.91900109\n",
            "  8.81787523  9.6121379   9.07919089  8.81308235 10.03298046 10.159921\n",
            "  9.8562112  11.44701734 10.55461106  9.27703873 12.29404986 11.98828091\n",
            " 11.93818678 11.41843439 13.13063036 12.86902418 16.95871922 12.84522247\n",
            " 14.64356413 14.12882127 13.46958628 17.4831632  16.47377107  6.55779784\n",
            "  6.89837372 10.00336525  8.50124814  8.20959747  8.53192281  9.23628289\n",
            "  8.03830939 10.049584    9.77368539 11.30711262 10.829156   11.88333619\n",
            " 10.69231249 11.61153793 10.68740821  9.7856282  12.06331095 10.891754\n",
            " 12.71313681 12.21132515  9.10081714 12.3437401  10.97995769 10.97854908\n",
            " 10.90406938 12.92980948 14.90124884 12.99553058  7.59871174  8.17322141\n",
            "  8.30726827  8.7774715   8.44073425  9.45580371  9.76915082  9.20606195\n",
            "  8.28439027  9.32257947 10.9615253  10.85729359 11.3704308  10.29569804\n",
            " 10.62388181 11.65010067 11.28724451 11.65627402 10.08261933 10.89784061\n",
            " 12.13106696 11.42471152 12.55838047 13.19349747 12.22199563 11.75312835\n",
            " 13.56714829 12.65241424 13.11560461 15.13865661 13.16567337 13.0965301\n",
            " 12.52489315 15.43000597 13.66729467 13.29831821 10.19569184  9.8089381\n",
            " 12.97056058 11.46631005 13.28318586 10.59566711  8.70163446  8.99929744\n",
            "  9.31672707  9.40433811  9.58235153  9.42914249 10.42748054 10.00607232\n",
            " 11.34630811 10.50153867 11.6433575  12.41122347 10.65808263 10.93791324\n",
            " 10.54494743 10.64477123 12.56606072 10.90061861 11.7437649  12.15602461\n",
            " 11.200504   12.36690775 11.20362761 13.01744024 10.48011891 13.20640114\n",
            " 12.45433531 12.05906087 13.60256661 12.7231189  13.39371352 12.40717859\n",
            " 13.08634301 12.15767083 11.81472806 11.45353117 13.80999176 14.9004537\n",
            " 13.26117721 12.16504528 13.62200363 13.98311887  8.66381183  9.18762121\n",
            " 10.58663576 12.1342466   9.86846074 11.41000706  9.47998562  9.48863232\n",
            " 10.24477087 10.11569623 11.78671752 14.18266     7.65554331  9.7782971\n",
            " 10.30725954 10.62103077 10.59288374 10.93075151 10.42924198 12.43880237\n",
            " 11.18668724 11.83899461 11.69647797 12.83073845 11.28452597 13.48150977\n",
            " 12.1020587  12.04358535 14.03866662 12.36968345 13.3249623  12.81152312\n",
            " 12.96099382 16.18541203 14.07573832 13.51788827 12.42870103 14.99120769\n",
            " 19.50015039 12.94658652 14.29339602 14.27277704  7.53820154  8.00838703\n",
            "  7.88657938  8.52111401  9.11155006  8.34771788  9.9934286  10.81420827\n",
            " 10.83345339  9.9612307  12.15736201 12.80133046 12.06639899  9.27900464\n",
            "  8.3592097   8.88529159  8.7232005  10.13692015 10.6924103  10.80579668\n",
            " 10.62558697 12.89714487 11.78926114 12.05605238 11.631467   12.6307451\n",
            " 11.10550271 12.78304482]\n"
          ]
        }
      ]
    },
    {
      "cell_type": "code",
      "source": [
        "# Calculate the mean squared error of the predictions\n",
        "mse = mean_squared_error(b_test, b_pred)\n",
        "print(\"Mean squared error:\", mse)"
      ],
      "metadata": {
        "colab": {
          "base_uri": "https://localhost:8080/"
        },
        "id": "zzK7Zs5umsN5",
        "outputId": "67069070-eaf9-4c8b-934a-46835e658911"
      },
      "execution_count": null,
      "outputs": [
        {
          "output_type": "stream",
          "name": "stdout",
          "text": [
            "Mean squared error: 3.979977554931105\n"
          ]
        }
      ]
    }
  ]
}